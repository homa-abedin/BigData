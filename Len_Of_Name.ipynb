{
  "nbformat": 4,
  "nbformat_minor": 0,
  "metadata": {
    "colab": {
      "provenance": [],
      "authorship_tag": "ABX9TyP0+hcJOZpsB0HccW2ug0TL",
      "include_colab_link": true
    },
    "kernelspec": {
      "name": "python3",
      "display_name": "Python 3"
    },
    "language_info": {
      "name": "python"
    }
  },
  "cells": [
    {
      "cell_type": "markdown",
      "metadata": {
        "id": "view-in-github",
        "colab_type": "text"
      },
      "source": [
        "<a href=\"https://colab.research.google.com/github/homa-abedin/BigData/blob/main/Len_Of_Name.ipynb\" target=\"_parent\"><img src=\"https://colab.research.google.com/assets/colab-badge.svg\" alt=\"Open In Colab\"/></a>"
      ]
    },
    {
      "cell_type": "code",
      "execution_count": 1,
      "metadata": {
        "colab": {
          "base_uri": "https://localhost:8080/"
        },
        "id": "0oWby0QnYVw5",
        "outputId": "5aecb365-9cf1-4c63-d186-99d7d5902df3"
      },
      "outputs": [
        {
          "output_type": "stream",
          "name": "stdout",
          "text": [
            "Collecting pyspark\n",
            "  Downloading pyspark-3.5.1.tar.gz (317.0 MB)\n",
            "\u001b[2K     \u001b[90m━━━━━━━━━━━━━━━━━━━━━━━━━━━━━━━━━━━━━━━━\u001b[0m \u001b[32m317.0/317.0 MB\u001b[0m \u001b[31m2.6 MB/s\u001b[0m eta \u001b[36m0:00:00\u001b[0m\n",
            "\u001b[?25h  Preparing metadata (setup.py) ... \u001b[?25l\u001b[?25hdone\n",
            "Requirement already satisfied: py4j==0.10.9.7 in /usr/local/lib/python3.10/dist-packages (from pyspark) (0.10.9.7)\n",
            "Building wheels for collected packages: pyspark\n",
            "  Building wheel for pyspark (setup.py) ... \u001b[?25l\u001b[?25hdone\n",
            "  Created wheel for pyspark: filename=pyspark-3.5.1-py2.py3-none-any.whl size=317488491 sha256=cf806b082445e10b91b36ba245568ccf3fb1dde3457a95827af038890347446f\n",
            "  Stored in directory: /root/.cache/pip/wheels/80/1d/60/2c256ed38dddce2fdd93be545214a63e02fbd8d74fb0b7f3a6\n",
            "Successfully built pyspark\n",
            "Installing collected packages: pyspark\n",
            "Successfully installed pyspark-3.5.1\n"
          ]
        }
      ],
      "source": [
        "pip install pyspark"
      ]
    },
    {
      "cell_type": "code",
      "source": [
        "from pyspark import SparkContext"
      ],
      "metadata": {
        "id": "0IVUulD2Yvya"
      },
      "execution_count": 7,
      "outputs": []
    },
    {
      "cell_type": "code",
      "source": [
        "sc = SparkContext(master='local[*]', appName='Len Of Name')"
      ],
      "metadata": {
        "id": "_mn53BseYYKf"
      },
      "execution_count": 9,
      "outputs": []
    },
    {
      "cell_type": "code",
      "source": [
        "sc"
      ],
      "metadata": {
        "colab": {
          "base_uri": "https://localhost:8080/",
          "height": 196
        },
        "id": "qtATtiWhYjl7",
        "outputId": "00cc6027-fac5-4811-8aa4-eba5939a26a8"
      },
      "execution_count": 10,
      "outputs": [
        {
          "output_type": "execute_result",
          "data": {
            "text/plain": [
              "<SparkContext master=local[*] appName=Len Of Name>"
            ],
            "text/html": [
              "\n",
              "        <div>\n",
              "            <p><b>SparkContext</b></p>\n",
              "\n",
              "            <p><a href=\"http://dd583b93bb34:4040\">Spark UI</a></p>\n",
              "\n",
              "            <dl>\n",
              "              <dt>Version</dt>\n",
              "                <dd><code>v3.5.1</code></dd>\n",
              "              <dt>Master</dt>\n",
              "                <dd><code>local[*]</code></dd>\n",
              "              <dt>AppName</dt>\n",
              "                <dd><code>Len Of Name</code></dd>\n",
              "            </dl>\n",
              "        </div>\n",
              "        "
            ]
          },
          "metadata": {},
          "execution_count": 10
        }
      ]
    },
    {
      "cell_type": "code",
      "source": [
        "name = sc.textFile('/content/name_question.txt')"
      ],
      "metadata": {
        "id": "y2lRu9ngZqSu"
      },
      "execution_count": 12,
      "outputs": []
    },
    {
      "cell_type": "code",
      "source": [
        "name.take(10)"
      ],
      "metadata": {
        "colab": {
          "base_uri": "https://localhost:8080/"
        },
        "id": "1qQwSF3aZ67v",
        "outputId": "23609f4b-7bce-4ca7-90f0-df76a872e546"
      },
      "execution_count": 13,
      "outputs": [
        {
          "output_type": "execute_result",
          "data": {
            "text/plain": [
              "['ali',\n",
              " 'vahid',\n",
              " 'iman',\n",
              " 'mozhgan',\n",
              " 'naghi',\n",
              " 'gholi',\n",
              " 'reza',\n",
              " 'majid',\n",
              " 'elham',\n",
              " 'farid']"
            ]
          },
          "metadata": {},
          "execution_count": 13
        }
      ]
    },
    {
      "cell_type": "code",
      "source": [
        "pair_name_rdd = name.map(lambda x : (len(x) ,x   ) )"
      ],
      "metadata": {
        "id": "HZECuGBMZ-Gp"
      },
      "execution_count": 33,
      "outputs": []
    },
    {
      "cell_type": "code",
      "source": [
        "pair_name_rdd.take(10)"
      ],
      "metadata": {
        "colab": {
          "base_uri": "https://localhost:8080/"
        },
        "id": "BJCxb2g7aVeL",
        "outputId": "b742de9d-3e13-4176-8f7f-50119ca764a9"
      },
      "execution_count": 34,
      "outputs": [
        {
          "output_type": "execute_result",
          "data": {
            "text/plain": [
              "[(3, 'ali'),\n",
              " (5, 'vahid'),\n",
              " (4, 'iman'),\n",
              " (7, 'mozhgan'),\n",
              " (5, 'naghi'),\n",
              " (5, 'gholi'),\n",
              " (4, 'reza'),\n",
              " (5, 'majid'),\n",
              " (5, 'elham'),\n",
              " (5, 'farid')]"
            ]
          },
          "metadata": {},
          "execution_count": 34
        }
      ]
    },
    {
      "cell_type": "code",
      "source": [
        "sorted(pair_name_rdd.groupByKey().mapValues(list).collect())"
      ],
      "metadata": {
        "colab": {
          "base_uri": "https://localhost:8080/"
        },
        "id": "V9_iJl0haYcY",
        "outputId": "a6e9351d-538f-45a5-f0e1-4c8b36a9bdda"
      },
      "execution_count": 38,
      "outputs": [
        {
          "output_type": "execute_result",
          "data": {
            "text/plain": [
              "[(0, ['', '', '', '']),\n",
              " (3, ['ali', 'ava']),\n",
              " (4, ['iman', 'reza', 'tara']),\n",
              " (5,\n",
              "  ['vahid',\n",
              "   'naghi',\n",
              "   'gholi',\n",
              "   'majid',\n",
              "   'elham',\n",
              "   'farid',\n",
              "   'sasan',\n",
              "   'saeed',\n",
              "   'zahra']),\n",
              " (6, ['masoud', 'behrad']),\n",
              " (7, ['mozhgan']),\n",
              " (8, ['hmidreza']),\n",
              " (10, ['gholchehre', 'amir mehdi']),\n",
              " (12, ['haj mohammad'])]"
            ]
          },
          "metadata": {},
          "execution_count": 38
        }
      ]
    }
  ]
}