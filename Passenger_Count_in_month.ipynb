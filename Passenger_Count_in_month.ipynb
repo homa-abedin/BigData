{
  "nbformat": 4,
  "nbformat_minor": 0,
  "metadata": {
    "colab": {
      "provenance": [],
      "authorship_tag": "ABX9TyMN+1SKqDzjGWPQsKBEDI1o",
      "include_colab_link": true
    },
    "kernelspec": {
      "name": "python3",
      "display_name": "Python 3"
    },
    "language_info": {
      "name": "python"
    }
  },
  "cells": [
    {
      "cell_type": "markdown",
      "metadata": {
        "id": "view-in-github",
        "colab_type": "text"
      },
      "source": [
        "<a href=\"https://colab.research.google.com/github/homa-abedin/BigData/blob/main/Passenger_Count_in_month.ipynb\" target=\"_parent\"><img src=\"https://colab.research.google.com/assets/colab-badge.svg\" alt=\"Open In Colab\"/></a>"
      ]
    },
    {
      "cell_type": "code",
      "execution_count": 1,
      "metadata": {
        "colab": {
          "base_uri": "https://localhost:8080/"
        },
        "id": "e1RcjsqpA9Vj",
        "outputId": "c1dbcc3a-eb3a-48d5-b3ac-346d5512fed4"
      },
      "outputs": [
        {
          "output_type": "stream",
          "name": "stdout",
          "text": [
            "Collecting pyspark\n",
            "  Downloading pyspark-3.5.1.tar.gz (317.0 MB)\n",
            "\u001b[2K     \u001b[90m━━━━━━━━━━━━━━━━━━━━━━━━━━━━━━━━━━━━━━━━\u001b[0m \u001b[32m317.0/317.0 MB\u001b[0m \u001b[31m3.0 MB/s\u001b[0m eta \u001b[36m0:00:00\u001b[0m\n",
            "\u001b[?25h  Preparing metadata (setup.py) ... \u001b[?25l\u001b[?25hdone\n",
            "Requirement already satisfied: py4j==0.10.9.7 in /usr/local/lib/python3.10/dist-packages (from pyspark) (0.10.9.7)\n",
            "Building wheels for collected packages: pyspark\n",
            "  Building wheel for pyspark (setup.py) ... \u001b[?25l\u001b[?25hdone\n",
            "  Created wheel for pyspark: filename=pyspark-3.5.1-py2.py3-none-any.whl size=317488491 sha256=9ddf38fea1a00886e9503849acc406cddc82bd90f3da35d7bfab7c56314a8b57\n",
            "  Stored in directory: /root/.cache/pip/wheels/80/1d/60/2c256ed38dddce2fdd93be545214a63e02fbd8d74fb0b7f3a6\n",
            "Successfully built pyspark\n",
            "Installing collected packages: pyspark\n",
            "Successfully installed pyspark-3.5.1\n"
          ]
        }
      ],
      "source": [
        "pip install pyspark"
      ]
    },
    {
      "cell_type": "code",
      "source": [
        "from pyspark import SparkContext\n"
      ],
      "metadata": {
        "id": "zEtdgH8GBXo-"
      },
      "execution_count": 2,
      "outputs": []
    },
    {
      "cell_type": "code",
      "source": [
        "from pyspark.sql import SparkSession"
      ],
      "metadata": {
        "id": "txCZH-MFBaqB"
      },
      "execution_count": 3,
      "outputs": []
    },
    {
      "cell_type": "code",
      "source": [
        "from pyspark.sql.functions import *"
      ],
      "metadata": {
        "id": "szNyMB01Bcan"
      },
      "execution_count": 4,
      "outputs": []
    },
    {
      "cell_type": "code",
      "source": [
        "import datetime\n",
        "from pyspark.sql.functions import year, month, dayofmonth"
      ],
      "metadata": {
        "id": "AO1jx8wlCxfN"
      },
      "execution_count": 11,
      "outputs": []
    },
    {
      "cell_type": "code",
      "source": [
        "spark =SparkSession.builder.master('local[*]').appName('Passenger Count').getOrCreate()"
      ],
      "metadata": {
        "id": "spfIgZc-BeJn"
      },
      "execution_count": 5,
      "outputs": []
    },
    {
      "cell_type": "code",
      "source": [
        "spark"
      ],
      "metadata": {
        "colab": {
          "base_uri": "https://localhost:8080/",
          "height": 219
        },
        "id": "dX7zsqdXBjG9",
        "outputId": "7f653ece-1b0a-49f0-e20d-fc1e96e6e00c"
      },
      "execution_count": 6,
      "outputs": [
        {
          "output_type": "execute_result",
          "data": {
            "text/plain": [
              "<pyspark.sql.session.SparkSession at 0x790d0c60da20>"
            ],
            "text/html": [
              "\n",
              "            <div>\n",
              "                <p><b>SparkSession - in-memory</b></p>\n",
              "                \n",
              "        <div>\n",
              "            <p><b>SparkContext</b></p>\n",
              "\n",
              "            <p><a href=\"http://8c1e7aa11694:4040\">Spark UI</a></p>\n",
              "\n",
              "            <dl>\n",
              "              <dt>Version</dt>\n",
              "                <dd><code>v3.5.1</code></dd>\n",
              "              <dt>Master</dt>\n",
              "                <dd><code>local[*]</code></dd>\n",
              "              <dt>AppName</dt>\n",
              "                <dd><code>Passenger Count</code></dd>\n",
              "            </dl>\n",
              "        </div>\n",
              "        \n",
              "            </div>\n",
              "        "
            ]
          },
          "metadata": {},
          "execution_count": 6
        }
      ]
    },
    {
      "cell_type": "code",
      "source": [
        "passenger=spark.read.options(sep=',', header=True,inferSchema=True).csv('/content/lax_passengers_header.csv')"
      ],
      "metadata": {
        "id": "TwMda4l6BkNs"
      },
      "execution_count": 9,
      "outputs": []
    },
    {
      "cell_type": "code",
      "source": [
        "passenger.show(10)"
      ],
      "metadata": {
        "colab": {
          "base_uri": "https://localhost:8080/"
        },
        "id": "FFROZnh4B6iW",
        "outputId": "94906d64-34b1-4491-e11e-559cfea12552"
      },
      "execution_count": 10,
      "outputs": [
        {
          "output_type": "stream",
          "name": "stdout",
          "text": [
            "+--------------------+--------------------+-----------------+-----------------+----------------------+---------------+\n",
            "|     DataExtractDate|        ReportPeriod|         Terminal|Arrival_Departure|Domestic_International|Passenger_Count|\n",
            "+--------------------+--------------------+-----------------+-----------------+----------------------+---------------+\n",
            "|05/01/2014 12:00:...|01/01/2006 12:00:...|Imperial Terminal|          Arrival|              Domestic|            490|\n",
            "|05/01/2014 12:00:...|01/01/2006 12:00:...|Imperial Terminal|        Departure|              Domestic|            498|\n",
            "|05/01/2014 12:00:...|01/01/2006 12:00:...|   Misc. Terminal|          Arrival|              Domestic|            753|\n",
            "|05/01/2014 12:00:...|01/01/2006 12:00:...|   Misc. Terminal|        Departure|              Domestic|            688|\n",
            "|05/01/2014 12:00:...|01/01/2006 12:00:...|       Terminal 1|          Arrival|              Domestic|         401535|\n",
            "|05/01/2014 12:00:...|01/01/2006 12:00:...|       Terminal 1|        Departure|              Domestic|         389745|\n",
            "|05/01/2014 12:00:...|01/01/2006 12:00:...|       Terminal 1|        Departure|         International|            561|\n",
            "|05/01/2014 12:00:...|01/01/2006 12:00:...|       Terminal 2|          Arrival|              Domestic|          98991|\n",
            "|05/01/2014 12:00:...|01/01/2006 12:00:...|       Terminal 2|          Arrival|         International|         163067|\n",
            "|05/01/2014 12:00:...|01/01/2006 12:00:...|       Terminal 2|        Departure|              Domestic|          93672|\n",
            "+--------------------+--------------------+-----------------+-----------------+----------------------+---------------+\n",
            "only showing top 10 rows\n",
            "\n"
          ]
        }
      ]
    },
    {
      "cell_type": "code",
      "source": [
        "passenger.schema"
      ],
      "metadata": {
        "colab": {
          "base_uri": "https://localhost:8080/"
        },
        "id": "ubgNq2-pDmOG",
        "outputId": "360d3cac-8d80-4e74-dea2-2fcf34265c89"
      },
      "execution_count": 19,
      "outputs": [
        {
          "output_type": "execute_result",
          "data": {
            "text/plain": [
              "StructType([StructField('DataExtractDate', StringType(), True), StructField('ReportPeriod', StringType(), True), StructField('Terminal', StringType(), True), StructField('Arrival_Departure', StringType(), True), StructField('Domestic_International', StringType(), True), StructField('Passenger_Count', IntegerType(), True)])"
            ]
          },
          "metadata": {},
          "execution_count": 19
        }
      ]
    },
    {
      "cell_type": "code",
      "source": [
        "passengerNewDate=passenger.withColumn( 'newdate',passenger.ReportPeriod.substr(1,10))"
      ],
      "metadata": {
        "id": "b66E0-I4P0-V"
      },
      "execution_count": 77,
      "outputs": []
    },
    {
      "cell_type": "code",
      "source": [
        "\n",
        "df=passengerNewDate.select( date_format(to_date(\"newdate\",\"MM/dd/yyyy\"), \"yyyy-MM\" ).alias(\"to_date\"),'Terminal' , 'Passenger_Count' )\n",
        "\n",
        "df.show(10)"
      ],
      "metadata": {
        "colab": {
          "base_uri": "https://localhost:8080/"
        },
        "id": "x1FJzqhzHYnj",
        "outputId": "736f10b9-5437-4677-a1fc-9d66cdb4d6c2"
      },
      "execution_count": 101,
      "outputs": [
        {
          "output_type": "stream",
          "name": "stdout",
          "text": [
            "+-------+-----------------+---------------+\n",
            "|to_date|         Terminal|Passenger_Count|\n",
            "+-------+-----------------+---------------+\n",
            "|2006-01|Imperial Terminal|            490|\n",
            "|2006-01|Imperial Terminal|            498|\n",
            "|2006-01|   Misc. Terminal|            753|\n",
            "|2006-01|   Misc. Terminal|            688|\n",
            "|2006-01|       Terminal 1|         401535|\n",
            "|2006-01|       Terminal 1|         389745|\n",
            "|2006-01|       Terminal 1|            561|\n",
            "|2006-01|       Terminal 2|          98991|\n",
            "|2006-01|       Terminal 2|         163067|\n",
            "|2006-01|       Terminal 2|          93672|\n",
            "+-------+-----------------+---------------+\n",
            "only showing top 10 rows\n",
            "\n"
          ]
        }
      ]
    },
    {
      "cell_type": "code",
      "source": [
        "df.schema"
      ],
      "metadata": {
        "colab": {
          "base_uri": "https://localhost:8080/"
        },
        "id": "KjKTdbVTN8On",
        "outputId": "9a22b12e-4094-4884-8920-c908ae224ca2"
      },
      "execution_count": 102,
      "outputs": [
        {
          "output_type": "execute_result",
          "data": {
            "text/plain": [
              "StructType([StructField('to_date', StringType(), True), StructField('Terminal', StringType(), True), StructField('Passenger_Count', IntegerType(), True)])"
            ]
          },
          "metadata": {},
          "execution_count": 102
        }
      ]
    },
    {
      "cell_type": "code",
      "source": [
        "newdf=df.select('*',year(\"to_date\").alias('year'),month(\"to_date\").alias('month'))"
      ],
      "metadata": {
        "id": "E7lV9nkLCCww"
      },
      "execution_count": 103,
      "outputs": []
    },
    {
      "cell_type": "code",
      "source": [
        "newdf.show(10)"
      ],
      "metadata": {
        "colab": {
          "base_uri": "https://localhost:8080/"
        },
        "id": "9tVYKoCWR6Jj",
        "outputId": "8d5f9815-dc4f-4d09-e67c-003d9a2299e4"
      },
      "execution_count": 104,
      "outputs": [
        {
          "output_type": "stream",
          "name": "stdout",
          "text": [
            "+-------+-----------------+---------------+----+-----+\n",
            "|to_date|         Terminal|Passenger_Count|year|month|\n",
            "+-------+-----------------+---------------+----+-----+\n",
            "|2006-01|Imperial Terminal|            490|2006|    1|\n",
            "|2006-01|Imperial Terminal|            498|2006|    1|\n",
            "|2006-01|   Misc. Terminal|            753|2006|    1|\n",
            "|2006-01|   Misc. Terminal|            688|2006|    1|\n",
            "|2006-01|       Terminal 1|         401535|2006|    1|\n",
            "|2006-01|       Terminal 1|         389745|2006|    1|\n",
            "|2006-01|       Terminal 1|            561|2006|    1|\n",
            "|2006-01|       Terminal 2|          98991|2006|    1|\n",
            "|2006-01|       Terminal 2|         163067|2006|    1|\n",
            "|2006-01|       Terminal 2|          93672|2006|    1|\n",
            "+-------+-----------------+---------------+----+-----+\n",
            "only showing top 10 rows\n",
            "\n"
          ]
        }
      ]
    },
    {
      "cell_type": "code",
      "source": [
        "newdf.createOrReplaceTempView('newdf')"
      ],
      "metadata": {
        "id": "O5jxaPh6TRs7"
      },
      "execution_count": 115,
      "outputs": []
    },
    {
      "cell_type": "code",
      "source": [
        "spark.sql('select Terminal from newdf where Terminal not in ('\"'Imperial Terminal'\"', '\"'Misc. Terminal'\"' ) group by Terminal order by Terminal ').show()"
      ],
      "metadata": {
        "colab": {
          "base_uri": "https://localhost:8080/"
        },
        "id": "lOqsTA8VS6wP",
        "outputId": "d6a95b61-20fe-4135-d49e-3775a1208674"
      },
      "execution_count": 95,
      "outputs": [
        {
          "output_type": "stream",
          "name": "stdout",
          "text": [
            "+--------------------+\n",
            "|            Terminal|\n",
            "+--------------------+\n",
            "|          Terminal 1|\n",
            "|          Terminal 2|\n",
            "|          Terminal 3|\n",
            "|          Terminal 4|\n",
            "|          Terminal 5|\n",
            "|          Terminal 6|\n",
            "|          Terminal 7|\n",
            "|          Terminal 8|\n",
            "|Tom Bradley Inter...|\n",
            "+--------------------+\n",
            "\n"
          ]
        }
      ]
    },
    {
      "cell_type": "code",
      "source": [
        "final= spark.sql('select to_date , sum(Passenger_Count) as cnt from newdf where Terminal not in ('\"'Imperial Terminal'\"', '\"'Misc. Terminal'\"' )  group by to_date having cnt>5000000 ')"
      ],
      "metadata": {
        "id": "EeZamvz0Bwgg"
      },
      "execution_count": 116,
      "outputs": []
    },
    {
      "cell_type": "code",
      "source": [
        "final.show(10)"
      ],
      "metadata": {
        "colab": {
          "base_uri": "https://localhost:8080/"
        },
        "id": "eih7XdhVSnCp",
        "outputId": "32797d5c-8cf2-457e-e03d-10efeb578d6a"
      },
      "execution_count": 117,
      "outputs": [
        {
          "output_type": "stream",
          "name": "stdout",
          "text": [
            "+-------+-------+\n",
            "|to_date|    cnt|\n",
            "+-------+-------+\n",
            "|2013-05|5557314|\n",
            "|2009-07|5603652|\n",
            "|2013-09|5159762|\n",
            "|2007-05|5256763|\n",
            "|2010-08|5617610|\n",
            "|2013-12|5606038|\n",
            "|2006-07|5919529|\n",
            "|2013-06|5947409|\n",
            "|2006-05|5176330|\n",
            "|2006-04|5085946|\n",
            "+-------+-------+\n",
            "only showing top 10 rows\n",
            "\n"
          ]
        }
      ]
    },
    {
      "cell_type": "code",
      "source": [
        "newdf.write.csv('/content/passenger.csv')"
      ],
      "metadata": {
        "id": "sYsnwRi2UGpf"
      },
      "execution_count": 118,
      "outputs": []
    },
    {
      "cell_type": "code",
      "source": [],
      "metadata": {
        "id": "DEh3J_CSVUwP"
      },
      "execution_count": null,
      "outputs": []
    }
  ]
}