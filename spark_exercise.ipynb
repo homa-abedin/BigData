{
  "nbformat": 4,
  "nbformat_minor": 0,
  "metadata": {
    "colab": {
      "provenance": [],
      "authorship_tag": "ABX9TyM2v8MsPovbyofLE/bsGpV8",
      "include_colab_link": true
    },
    "kernelspec": {
      "name": "python3",
      "display_name": "Python 3"
    },
    "language_info": {
      "name": "python"
    }
  },
  "cells": [
    {
      "cell_type": "markdown",
      "metadata": {
        "id": "view-in-github",
        "colab_type": "text"
      },
      "source": [
        "<a href=\"https://colab.research.google.com/github/homa-abedin/BigData/blob/main/spark_exercise.ipynb\" target=\"_parent\"><img src=\"https://colab.research.google.com/assets/colab-badge.svg\" alt=\"Open In Colab\"/></a>"
      ]
    },
    {
      "cell_type": "code",
      "execution_count": null,
      "metadata": {
        "colab": {
          "base_uri": "https://localhost:8080/"
        },
        "id": "gBVy8NDgiGk5",
        "outputId": "3a48d82d-d410-4b5f-efa8-613f28bae5f4"
      },
      "outputs": [
        {
          "output_type": "stream",
          "name": "stdout",
          "text": [
            "Requirement already satisfied: pyspark in /usr/local/lib/python3.10/dist-packages (3.5.1)\n",
            "Requirement already satisfied: py4j==0.10.9.7 in /usr/local/lib/python3.10/dist-packages (from pyspark) (0.10.9.7)\n"
          ]
        }
      ],
      "source": [
        "pip install pyspark"
      ]
    },
    {
      "cell_type": "code",
      "source": [
        "from pyspark import SparkContext\n"
      ],
      "metadata": {
        "id": "z-fSIbIciTTH"
      },
      "execution_count": null,
      "outputs": []
    },
    {
      "cell_type": "code",
      "source": [
        "from pyspark.sql.functions import *"
      ],
      "metadata": {
        "id": "zqaZ8rzbqinE"
      },
      "execution_count": null,
      "outputs": []
    },
    {
      "cell_type": "code",
      "source": [
        "from pyspark.sql import SparkSession"
      ],
      "metadata": {
        "id": "EIliELVejEOB"
      },
      "execution_count": null,
      "outputs": []
    },
    {
      "cell_type": "code",
      "source": [
        "spark =SparkSession.builder.master('local[*]').appName('Book RAting').getOrCreate()"
      ],
      "metadata": {
        "id": "RHWDZzs9iVJq"
      },
      "execution_count": null,
      "outputs": []
    },
    {
      "cell_type": "code",
      "source": [
        "spark"
      ],
      "metadata": {
        "colab": {
          "base_uri": "https://localhost:8080/",
          "height": 219
        },
        "id": "wKpzNBSmiXVN",
        "outputId": "71d1a479-1d41-4d8e-ca73-ed475aa4c993"
      },
      "execution_count": null,
      "outputs": [
        {
          "output_type": "execute_result",
          "data": {
            "text/plain": [
              "<pyspark.sql.session.SparkSession at 0x78bcf036e8f0>"
            ],
            "text/html": [
              "\n",
              "            <div>\n",
              "                <p><b>SparkSession - in-memory</b></p>\n",
              "                \n",
              "        <div>\n",
              "            <p><b>SparkContext</b></p>\n",
              "\n",
              "            <p><a href=\"http://855285c9e469:4040\">Spark UI</a></p>\n",
              "\n",
              "            <dl>\n",
              "              <dt>Version</dt>\n",
              "                <dd><code>v3.5.1</code></dd>\n",
              "              <dt>Master</dt>\n",
              "                <dd><code>local[*]</code></dd>\n",
              "              <dt>AppName</dt>\n",
              "                <dd><code>BookRating</code></dd>\n",
              "            </dl>\n",
              "        </div>\n",
              "        \n",
              "            </div>\n",
              "        "
            ]
          },
          "metadata": {},
          "execution_count": 10
        }
      ]
    },
    {
      "cell_type": "code",
      "source": [
        "Books=spark.read.options(sep=';', header=True,inferSchema=True).csv('/content/Books.csv')"
      ],
      "metadata": {
        "id": "_PpVrp8JiaMP"
      },
      "execution_count": null,
      "outputs": []
    },
    {
      "cell_type": "code",
      "source": [
        "Book_Ratings=spark.read.options(sep=';', header=True,inferSchema=True).csv('/content/Book-Ratings.csv')"
      ],
      "metadata": {
        "id": "m4dguTSXkAdG"
      },
      "execution_count": null,
      "outputs": []
    },
    {
      "cell_type": "code",
      "source": [
        "Users=spark.read.options(sep=';', header=True,inferSchema=True).csv('/content/Users.csv')"
      ],
      "metadata": {
        "id": "q0WIPE-ekHYx"
      },
      "execution_count": null,
      "outputs": []
    },
    {
      "cell_type": "code",
      "source": [
        "Books.show(10)"
      ],
      "metadata": {
        "colab": {
          "base_uri": "https://localhost:8080/"
        },
        "id": "5-ruTGGgjN4G",
        "outputId": "db5bdd2a-1702-43fe-ccce-49bf0b55f212"
      },
      "execution_count": null,
      "outputs": [
        {
          "output_type": "stream",
          "name": "stdout",
          "text": [
            "+----------+--------------------+--------------------+-----------------+--------------------+--------------------+--------------------+--------------------+\n",
            "|      ISBN|           BookTitle|          BookAuthor|YearOfPublication|           Publisher|           ImageURLS|           ImageURLM|           ImageURLL|\n",
            "+----------+--------------------+--------------------+-----------------+--------------------+--------------------+--------------------+--------------------+\n",
            "|0195153448| Classical Mythology|  Mark P. O. Morford|             2002|Oxford University...|http://images.ama...|http://images.ama...|http://images.ama...|\n",
            "|0002005018|        Clara Callan|Richard Bruce Wright|             2001|HarperFlamingo Ca...|http://images.ama...|http://images.ama...|http://images.ama...|\n",
            "|0060973129|Decision in Normandy|        Carlo D'Este|             1991|     HarperPerennial|http://images.ama...|http://images.ama...|http://images.ama...|\n",
            "|0374157065|Flu: The Story of...|    Gina Bari Kolata|             1999|Farrar Straus Giroux|http://images.ama...|http://images.ama...|http://images.ama...|\n",
            "|0393045218|The Mummies of Ur...|     E. J. W. Barber|             1999|W. W. Norton &amp...|http://images.ama...|http://images.ama...|http://images.ama...|\n",
            "|0399135782|The Kitchen God's...|             Amy Tan|             1991|    Putnam Pub Group|http://images.ama...|http://images.ama...|http://images.ama...|\n",
            "|0425176428|What If?: The Wor...|       Robert Cowley|             2000|Berkley Publishin...|http://images.ama...|http://images.ama...|http://images.ama...|\n",
            "|0671870432|     PLEADING GUILTY|         Scott Turow|             1993|          Audioworks|http://images.ama...|http://images.ama...|http://images.ama...|\n",
            "|0679425608|Under the Black F...|     David Cordingly|             1996|        Random House|http://images.ama...|http://images.ama...|http://images.ama...|\n",
            "|074322678X|Where You'll Find...|         Ann Beattie|             2002|            Scribner|http://images.ama...|http://images.ama...|http://images.ama...|\n",
            "+----------+--------------------+--------------------+-----------------+--------------------+--------------------+--------------------+--------------------+\n",
            "only showing top 10 rows\n",
            "\n"
          ]
        }
      ]
    },
    {
      "cell_type": "code",
      "source": [
        "BookJoinRate= Books.join(Book_Ratings, Books.ISBN==Book_Ratings.isbn,  'inner').drop(Book_Ratings.isbn)"
      ],
      "metadata": {
        "id": "9wSZrNpVj4DC"
      },
      "execution_count": null,
      "outputs": []
    },
    {
      "cell_type": "code",
      "source": [
        "BookJoinRate.show(10)"
      ],
      "metadata": {
        "colab": {
          "base_uri": "https://localhost:8080/"
        },
        "id": "j_Gqo0Gmknrf",
        "outputId": "84471992-0d25-46e4-8ab0-7f487f9167cd"
      },
      "execution_count": null,
      "outputs": [
        {
          "output_type": "stream",
          "name": "stdout",
          "text": [
            "+----------+--------------------+----------------+-----------------+--------------------+--------------------+--------------------+--------------------+------+----+\n",
            "|      ISBN|           BookTitle|      BookAuthor|YearOfPublication|           Publisher|           ImageURLS|           ImageURLM|           ImageURLL|userid|rate|\n",
            "+----------+--------------------+----------------+-----------------+--------------------+--------------------+--------------------+--------------------+------+----+\n",
            "|0001046438|                Liar|     Stephen Fry|                0|    Harpercollins Uk|http://images.ama...|http://images.ama...|http://images.ama...| 23902|   9|\n",
            "|0001046934|The Prime of Miss...|    Muriel Spark|             1999|Trafalgar Square ...|http://images.ama...|http://images.ama...|http://images.ama...|206300|   0|\n",
            "|0001047213|    The Fighting Man|  Gerald Seymour|             1993|HarperCollins Pub...|http://images.ama...|http://images.ama...|http://images.ama...| 23902|   9|\n",
            "|0001047973|     Brave New World|   Aldous Huxley|             1999|Trafalgar Square ...|http://images.ama...|http://images.ama...|http://images.ama...| 11944|   9|\n",
            "|0001047973|     Brave New World|   Aldous Huxley|             1999|Trafalgar Square ...|http://images.ama...|http://images.ama...|http://images.ama...| 23902|   9|\n",
            "|0001048473|Nothing Can Be Be...|Barns &amp; Budd|             1996|            Atlantic|http://images.ama...|http://images.ama...|http://images.ama...| 23902|   0|\n",
            "|0001053744| Pearl and Sir Orfeo|J. R. R. Tolkien|             1999|Trafalgar Square ...|http://images.ama...|http://images.ama...|http://images.ama...|189835|   5|\n",
            "|000123207X|Paddington's Birt...|    Michael Bond|             1942|HarperCollins Pub...|http://images.ama...|http://images.ama...|http://images.ama...|198711|   0|\n",
            "|0001232088|Paddington in the...|    Michael Bond|             1942|HarperCollins Pub...|http://images.ama...|http://images.ama...|http://images.ama...|198711|   0|\n",
            "|0001360469|       Babe Dressing|   Mandy Stanley|             1997|HarperCollins Pub...|http://images.ama...|http://images.ama...|http://images.ama...| 10067|  10|\n",
            "+----------+--------------------+----------------+-----------------+--------------------+--------------------+--------------------+--------------------+------+----+\n",
            "only showing top 10 rows\n",
            "\n"
          ]
        }
      ]
    },
    {
      "cell_type": "code",
      "source": [
        "BookJoinRate.createOrReplaceTempView('rating')"
      ],
      "metadata": {
        "id": "8eEudOx9tVS1"
      },
      "execution_count": null,
      "outputs": []
    },
    {
      "cell_type": "markdown",
      "source": [
        "# question 1"
      ],
      "metadata": {
        "id": "A1bnjtuVumRu"
      }
    },
    {
      "cell_type": "code",
      "source": [
        "avgrate= spark.sql('select isbn,BookTitle ,avg(rate)as avg from rating group by isbn, BookTitle ')"
      ],
      "metadata": {
        "id": "kRIQmZ-Hq7RN"
      },
      "execution_count": null,
      "outputs": []
    },
    {
      "cell_type": "code",
      "source": [
        "avgrate.count()"
      ],
      "metadata": {
        "colab": {
          "base_uri": "https://localhost:8080/"
        },
        "id": "0UUQ0-KMxyT0",
        "outputId": "86cab2c5-ebb3-473c-ede4-39def3b9319b"
      },
      "execution_count": null,
      "outputs": [
        {
          "output_type": "execute_result",
          "data": {
            "text/plain": [
              "154301"
            ]
          },
          "metadata": {},
          "execution_count": 85
        }
      ]
    },
    {
      "cell_type": "code",
      "source": [
        "Books.count()"
      ],
      "metadata": {
        "colab": {
          "base_uri": "https://localhost:8080/"
        },
        "id": "DilQR1B4x4YP",
        "outputId": "54c70bb7-8b1e-4903-955c-dda07e9fbf15"
      },
      "execution_count": null,
      "outputs": [
        {
          "output_type": "execute_result",
          "data": {
            "text/plain": [
              "154400"
            ]
          },
          "metadata": {},
          "execution_count": 86
        }
      ]
    },
    {
      "cell_type": "code",
      "source": [
        "avgrate.show(10)"
      ],
      "metadata": {
        "colab": {
          "base_uri": "https://localhost:8080/"
        },
        "id": "YnINFWkVxuwD",
        "outputId": "41acdde5-ce07-4ba6-a27e-1ccd3a77cdcf"
      },
      "execution_count": null,
      "outputs": [
        {
          "output_type": "stream",
          "name": "stdout",
          "text": [
            "+----------+--------------------+----+\n",
            "|      isbn|           BookTitle| avg|\n",
            "+----------+--------------------+----+\n",
            "|0001046438|                Liar| 9.0|\n",
            "|0001046934|The Prime of Miss...| 0.0|\n",
            "|0001047213|    The Fighting Man| 9.0|\n",
            "|0001047973|     Brave New World| 9.0|\n",
            "|0001048473|Nothing Can Be Be...| 0.0|\n",
            "|0001053744| Pearl and Sir Orfeo| 5.0|\n",
            "|000123207X|Paddington's Birt...| 0.0|\n",
            "|0001232088|Paddington in the...| 0.0|\n",
            "|0001360469|       Babe Dressing|10.0|\n",
            "|0001372564|       Which Colour?| 0.0|\n",
            "+----------+--------------------+----+\n",
            "only showing top 10 rows\n",
            "\n"
          ]
        }
      ]
    },
    {
      "cell_type": "markdown",
      "source": [
        "#Question 2"
      ],
      "metadata": {
        "id": "RgZo8_quur2s"
      }
    },
    {
      "cell_type": "code",
      "source": [
        "AllData =BookJoinRate . join (Users,BookJoinRate.userid==Users.UserID ,'inner'). drop (BookJoinRate.userid)"
      ],
      "metadata": {
        "id": "1SyMgoTsoedy"
      },
      "execution_count": null,
      "outputs": []
    },
    {
      "cell_type": "code",
      "source": [
        "AllData.count()"
      ],
      "metadata": {
        "colab": {
          "base_uri": "https://localhost:8080/"
        },
        "id": "i8DLl38qvOGz",
        "outputId": "dd987250-1677-4716-d0a1-f1fef7574b11"
      },
      "execution_count": null,
      "outputs": [
        {
          "output_type": "execute_result",
          "data": {
            "text/plain": [
              "874801"
            ]
          },
          "metadata": {},
          "execution_count": 72
        }
      ]
    },
    {
      "cell_type": "code",
      "source": [
        "alldataavg=AllData.join (avgrate, avgrate.isbn== AllData.ISBN , 'inner').drop(avgrate.isbn , avgrate.BookTitle)"
      ],
      "metadata": {
        "id": "fR9tUGYRyAGD"
      },
      "execution_count": null,
      "outputs": []
    },
    {
      "cell_type": "code",
      "source": [
        "alldataavg.orderBy('isbn').show(10)"
      ],
      "metadata": {
        "colab": {
          "base_uri": "https://localhost:8080/"
        },
        "id": "4ISzp6B3xQM8",
        "outputId": "418510c8-b95f-4180-f765-5230bb0928ca"
      },
      "execution_count": null,
      "outputs": [
        {
          "output_type": "stream",
          "name": "stdout",
          "text": [
            "+---------------+-----------------+--------------------+--------------------+--------------------+--------------------+----+------+-----------+--------------------+----+----------+--------------------+---+\n",
            "|     BookAuthor|YearOfPublication|           Publisher|           ImageURLS|           ImageURLM|           ImageURLL|rate|UserID|   USERNAME|            Location| Age|      isbn|           BookTitle|avg|\n",
            "+---------------+-----------------+--------------------+--------------------+--------------------+--------------------+----+------+-----------+--------------------+----+----------+--------------------+---+\n",
            "|    Stephen Fry|                0|    Harpercollins Uk|http://images.ama...|http://images.ama...|http://images.ama...|   9| 23902|cHwJip4Kj4k|london, england, ...|NULL|0001046438|                Liar|9.0|\n",
            "|Helen Forrester|             1992|HarperCollins Pub...|http://images.ama...|http://images.ama...|http://images.ama...|   0|196149|ABBmQTNgpez|lisburn, northern...|  29|0001046713|Twopence to Cross...|0.0|\n",
            "|     T.S. Eliot|             1993|HarperCollins Pub...|http://images.ama...|http://images.ama...|http://images.ama...|   6| 23902|cHwJip4Kj4k|london, england, ...|NULL|000104687X|T.S. Eliot Readin...|6.0|\n",
            "|   Muriel Spark|             1999|Trafalgar Square ...|http://images.ama...|http://images.ama...|http://images.ama...|   0|206300|6VUiynjA3tV|london, england, ...|  34|0001046934|The Prime of Miss...|0.0|\n",
            "| Gerald Seymour|             1993|HarperCollins Pub...|http://images.ama...|http://images.ama...|http://images.ama...|   9| 23902|cHwJip4Kj4k|london, england, ...|NULL|0001047213|    The Fighting Man|9.0|\n",
            "|  Aldous Huxley|             1999|Trafalgar Square ...|http://images.ama...|http://images.ama...|http://images.ama...|   9| 11944|EM5BvtuvZ91|santo tirso, port...|  21|0001047973|     Brave New World|9.0|\n",
            "|  Aldous Huxley|             1999|Trafalgar Square ...|http://images.ama...|http://images.ama...|http://images.ama...|   9| 23902|cHwJip4Kj4k|london, england, ...|NULL|0001047973|     Brave New World|9.0|\n",
            "|   Ellis Peters|             1994|HarperCollins Pub...|http://images.ama...|http://images.ama...|http://images.ama...|   7| 28204|DbpWkW8ft4x|south ohio, nova ...|  61|000104799X|         Monk's-hood|7.5|\n",
            "|   Ellis Peters|             1994|HarperCollins Pub...|http://images.ama...|http://images.ama...|http://images.ama...|   8|166596|kYrK2dhYECY|greenwood, britis...|  57|000104799X|         Monk's-hood|7.5|\n",
            "|    Bill Bryson|             1995|HarperCollins Pub...|http://images.ama...|http://images.ama...|http://images.ama...|   8| 23902|cHwJip4Kj4k|london, england, ...|NULL|0001048082|     Made in America|8.0|\n",
            "+---------------+-----------------+--------------------+--------------------+--------------------+--------------------+----+------+-----------+--------------------+----+----------+--------------------+---+\n",
            "only showing top 10 rows\n",
            "\n"
          ]
        }
      ]
    },
    {
      "cell_type": "code",
      "source": [
        "alldataavg.createOrReplaceTempView('alldataavg')"
      ],
      "metadata": {
        "id": "Ob2K5nSbxBaK"
      },
      "execution_count": null,
      "outputs": []
    },
    {
      "cell_type": "code",
      "source": [
        "final =spark.sql('select USERNAME ,BookTitle ,rate, avg , case when rate>avg then '\"'up'\"' when rate=avg then '\"'same'\"' else '\"'down'\"' end as grade  from alldataavg ')"
      ],
      "metadata": {
        "id": "ZhwncOzYxGeO"
      },
      "execution_count": null,
      "outputs": []
    },
    {
      "cell_type": "code",
      "source": [
        "final.show(10)"
      ],
      "metadata": {
        "colab": {
          "base_uri": "https://localhost:8080/"
        },
        "id": "gDQ9PaauzdlP",
        "outputId": "c3273686-9a82-4a04-a7d0-6aab3df92a28"
      },
      "execution_count": null,
      "outputs": [
        {
          "output_type": "stream",
          "name": "stdout",
          "text": [
            "+-----------+--------------------+----+----+-----+\n",
            "|   USERNAME|           BookTitle|rate| avg|grade|\n",
            "+-----------+--------------------+----+----+-----+\n",
            "|cHwJip4Kj4k|                Liar|   9| 9.0| same|\n",
            "|6VUiynjA3tV|The Prime of Miss...|   0| 0.0| same|\n",
            "|cHwJip4Kj4k|    The Fighting Man|   9| 9.0| same|\n",
            "|EM5BvtuvZ91|     Brave New World|   9| 9.0| same|\n",
            "|cHwJip4Kj4k|     Brave New World|   9| 9.0| same|\n",
            "|cHwJip4Kj4k|Nothing Can Be Be...|   0| 0.0| same|\n",
            "|e8Hb8GyY8yN| Pearl and Sir Orfeo|   5| 5.0| same|\n",
            "|3X2htHp8Jgk|Paddington's Birt...|   0| 0.0| same|\n",
            "|3X2htHp8Jgk|Paddington in the...|   0| 0.0| same|\n",
            "|gjo86LabiFL|       Babe Dressing|  10|10.0| same|\n",
            "+-----------+--------------------+----+----+-----+\n",
            "only showing top 10 rows\n",
            "\n"
          ]
        }
      ]
    },
    {
      "cell_type": "code",
      "source": [
        "final.groupBy('grade').count().show(10)"
      ],
      "metadata": {
        "colab": {
          "base_uri": "https://localhost:8080/"
        },
        "id": "EBen2Otb1Cs_",
        "outputId": "5cddc9ea-74c4-4842-a889-727127d1401c"
      },
      "execution_count": null,
      "outputs": [
        {
          "output_type": "stream",
          "name": "stdout",
          "text": [
            "+-----+------+\n",
            "|grade| count|\n",
            "+-----+------+\n",
            "| down|459504|\n",
            "| same|127789|\n",
            "|   up|287508|\n",
            "+-----+------+\n",
            "\n"
          ]
        }
      ]
    },
    {
      "cell_type": "markdown",
      "source": [
        "# ****So 459504 of rate is below mean , 127789 of rate is equal to the mean and 287508 of rate is above mean ****"
      ],
      "metadata": {
        "id": "5b7hSjxU15Bc"
      }
    },
    {
      "cell_type": "code",
      "source": [
        "final.write.csv('/content/final.csv')"
      ],
      "metadata": {
        "id": "CwlJoqZl2T6g"
      },
      "execution_count": null,
      "outputs": []
    },
    {
      "cell_type": "code",
      "source": [],
      "metadata": {
        "id": "Ao0fUso31_Ik"
      },
      "execution_count": null,
      "outputs": []
    }
  ]
}